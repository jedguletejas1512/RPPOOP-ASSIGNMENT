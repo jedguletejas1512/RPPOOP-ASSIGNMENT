{
 "cells": [
  {
   "cell_type": "code",
   "execution_count": 1,
   "id": "59e7e3d3",
   "metadata": {},
   "outputs": [
    {
     "name": "stdout",
     "output_type": "stream",
     "text": [
      "Area is  60\n",
      "perimeter is :  32\n",
      "New length and breadth are : 15 & 20\n",
      "Area is  300\n"
     ]
    },
    {
     "data": {
      "text/plain": [
       "(15, 20)"
      ]
     },
     "execution_count": 1,
     "metadata": {},
     "output_type": "execute_result"
    }
   ],
   "source": [
    "#!/usr/bin/env python\n",
    "# coding: utf-8\n",
    "\n",
    "# In[1]:\n",
    "\n",
    "\n",
    "#assignment 0\n",
    "\n",
    "# 1. Design and implement a class representing a rectangle and operations like area, perimeter,\n",
    "# change dimensions, report dimensions, on it. Write code to test your classes\n",
    "\n",
    "\n",
    "class rectangle():\n",
    "    \n",
    "    def __init__(self,length,breadth):\n",
    "        self.length = length\n",
    "        self.breadth = breadth\n",
    "        \n",
    "    def area(self,length,breadth):\n",
    "        Area = length *  breadth\n",
    "        print(\"Area is \",Area)\n",
    "        \n",
    "    def perimeter(self,length,breadth):\n",
    "        Perimeter = 2*(length+breadth)\n",
    "        print (\"perimeter is : \",Perimeter)\n",
    "        \n",
    "    def report (self):\n",
    "        return self.length,self.breadth\n",
    "    \n",
    "    def changedimension (self,newlen,newbre):\n",
    "        self.length =newlen\n",
    "        self.breadth=newbre\n",
    "        print(\"New length and breadth are :\",self.length ,\"&\",self.breadth)\n",
    "        \n",
    "        \n",
    "        \n",
    "    \n",
    "        \n",
    "        \n",
    "rect =rectangle(6,10)\n",
    "rect.area(6,10)\n",
    "\n",
    "Perimeter = rectangle(6,10)\n",
    "Perimeter.perimeter(6,10)\n",
    "\n",
    "\n",
    "rect.changedimension(15,20)\n",
    "rect.area(15,20)\n",
    "rect.report()\n",
    "\n",
    "\n",
    "# In[ ]:\n"
   ]
  }
 ],
 "metadata": {
  "kernelspec": {
   "display_name": "Python 3 (ipykernel)",
   "language": "python",
   "name": "python3"
  },
  "language_info": {
   "codemirror_mode": {
    "name": "ipython",
    "version": 3
   },
   "file_extension": ".py",
   "mimetype": "text/x-python",
   "name": "python",
   "nbconvert_exporter": "python",
   "pygments_lexer": "ipython3",
   "version": "3.10.9"
  }
 },
 "nbformat": 4,
 "nbformat_minor": 5
}
